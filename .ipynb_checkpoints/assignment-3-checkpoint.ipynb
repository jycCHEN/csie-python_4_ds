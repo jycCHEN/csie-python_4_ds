{
 "cells": [
  {
   "cell_type": "code",
   "execution_count": 55,
   "metadata": {},
   "outputs": [],
   "source": [
    "%run assignment-0.ipynb\n",
    "\n",
    "df= get_nba_salary()"
   ]
  },
  {
   "cell_type": "code",
   "execution_count": 56,
   "metadata": {},
   "outputs": [
    {
     "name": "stdout",
     "output_type": "stream",
     "text": [
      "There are  121  NBA players whose annual income exceeds 10,000,000\n",
      "The mean value is  8022065.089058524\n",
      "The median value is  4549740.0\n"
     ]
    },
    {
     "data": {
      "text/plain": [
       "<matplotlib.axes._subplots.AxesSubplot at 0x1ed0ab245c0>"
      ]
     },
     "execution_count": 56,
     "metadata": {},
     "output_type": "execute_result"
    },
    {
     "data": {
      "image/png": "[encoded data removed]",
      "text/plain": [
       "<Figure size 432x288 with 1 Axes>"
      ]
     },
     "metadata": {},
     "output_type": "display_data"
    }
   ],
   "source": [
    "def str2num(array):\n",
    "    numArray=[]\n",
    "    for item in array:\n",
    "        itemList= item.split(',')\n",
    "        newString= ''.join(itemList)\n",
    "        numArray.append(int(newString))\n",
    "    return numArray\n",
    "df['salary']= str2num(df.salary)\n",
    "\n",
    "answer1=len(df[df.salary>10000000])\n",
    "answer2=df.salary.mean()\n",
    "answer3=df.salary.median(axis=0)\n",
    "\n",
    "print('There are ' , answer1, ' NBA players whose annual income exceeds 10,000,000')\n",
    "print('The mean value is ' , answer2)\n",
    "print('The median value is ' , answer3)\n",
    "%matplotlib inline\n",
    "df['salary'].plot(kind='hist', bins=30)"
   ]
  },
  {
   "cell_type": "code",
   "execution_count": null,
   "metadata": {},
   "outputs": [],
   "source": []
  }
 ],
 "metadata": {
  "kernelspec": {
   "display_name": "Python 3",
   "language": "python",
   "name": "python3"
  },
  "language_info": {
   "codemirror_mode": {
    "name": "ipython",
    "version": 3
   },
   "file_extension": ".py",
   "mimetype": "text/x-python",
   "name": "python",
   "nbconvert_exporter": "python",
   "pygments_lexer": "ipython3",
   "version": "3.6.5"
  }
 },
 "nbformat": 4,
 "nbformat_minor": 2
}
