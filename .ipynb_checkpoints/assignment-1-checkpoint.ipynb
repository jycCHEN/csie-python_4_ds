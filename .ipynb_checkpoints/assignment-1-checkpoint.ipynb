{
 "cells": [
  {
   "cell_type": "code",
   "execution_count": null,
   "metadata": {},
   "outputs": [],
   "source": [
    "def get_top_200(): \n",
    "    from urllib.request import urlopen\n",
    "    from bs4 import BeautifulSoup\n",
    "    import pandas as pd\n",
    "\n",
    "    #exchange and overcounter\n",
    "    url=['https://tw.stock.yahoo.com/d/i/rank.php?t=pri&e=tse&n=100',\n",
    "         'https://tw.stock.yahoo.com/d/i/rank.php?t=pri&e=otc&n=100']\n",
    "    html = [urlopen(url[0]), urlopen(url[1])]\n",
    "\n",
    "    charset=[item.info().get_content_charset() for item in html]\n",
    "\n",
    "    htmlBS= [BeautifulSoup(html[0].read().decode(charset[0], errors='ignore'), 'html.parser'), \n",
    "             BeautifulSoup(html[1].read().decode(charset[1], errors='ignore'), 'html.parser')]\n",
    "\n",
    "    type_=['上市', '上櫃']\n",
    "\n",
    "    result= pd.DataFrame()\n",
    "    for i in [0, 1]:\n",
    "        findStockName= htmlBS[i].findAll('td', {'class':'name'})\n",
    "        stockName= [item.text.split(' ') for item in findStockName]\n",
    "        stockPrice= [item.next_sibling.next_sibling.text for item in findStockName]\n",
    "        stockInfoDF= pd.DataFrame(stockName, columns=['ticker', 'company'])\n",
    "        stockInfoDF['price'] = stockPrice\n",
    "        stockInfoDF['type'] = type_[i]\n",
    "        result= result.append(stockInfoDF, ignore_index=True)\n",
    "    \n",
    "    return result"
   ]
  }
 ],
 "metadata": {
  "kernelspec": {
   "display_name": "Python 3",
   "language": "python",
   "name": "python3"
  },
  "language_info": {
   "codemirror_mode": {
    "name": "ipython",
    "version": 3
   },
   "file_extension": ".py",
   "mimetype": "text/x-python",
   "name": "python",
   "nbconvert_exporter": "python",
   "pygments_lexer": "ipython3",
   "version": "3.6.5"
  }
 },
 "nbformat": 4,
 "nbformat_minor": 2
}
